{
 "metadata": {
  "name": "CUDA Python - Click to Open"
 },
 "nbformat": 3,
 "nbformat_minor": 0,
 "worksheets": [
  {
   "cells": [
    {
     "cell_type": "markdown",
     "metadata": {},
     "source": "# Accelerating Python code with CUDA on GPUs\n\nIn this self-paced, hands-on lab, we will use CUDA Python to accelerate code on NVIDIA GPUs.\n\nLab created by Mark Ebersole (Follow [@CUDAHamster](https://twitter.com/@cudahamster) on Twitter)"
    },
    {
     "cell_type": "markdown",
     "metadata": {},
     "source": "The following timer counts down to a five minute warning before the lab instance shuts down.  You should get a pop up at the five minute warning reminding you to save your work!"
    },
    {
     "cell_type": "markdown",
     "metadata": {},
     "source": "<script src=\"files/countdown_v5.0/countdown.js\"></script>\n<div id=\"clock\" align=\"center\"></div>\n<script>\nmyDate = new Date();\ncurTime = Date.UTC(myDate.getUTCFullYear(), \n                   myDate.getUTCMonth(), \n                   myDate.getUTCDate(), \n                   myDate.getUTCHours(), \n                   myDate.getUTCMinutes(),\n                   myDate.getUTCSeconds(),\n                   myDate.getUTCMilliseconds());\n\nfunction countdownComplete(){\n  \talert(\"You only have five minutes left in the lab! Time to save your work - see the Post Lab section near the bottom.\");\n}\nvar myCD = new Countdown({\n                         time  \t: (1428150076669+50*60000-curTime)/1000,\n                         target\t \t: \"clock\",\n                         onComplete\t: countdownComplete,\n                         rangeHi  : \"minute\",\n                         hideLine\t: true,\n                         hideLabels\t: false,\n                         height\t \t: 60,\n                         width     : 150,\n                         style     : \"boring\",\n                    });\n </script>"
    },
    {
     "cell_type": "markdown",
     "metadata": {},
     "source": "---\nBefore we begin, let's verify [WebSockets](http://en.wikipedia.org/wiki/WebSocket) are working on your system.  To do this, execute the cell block below by giving it focus (clicking on it with your mouse), and hitting Ctrl-Enter, or pressing the play button in the toolbar above.  If all goes well, you should see get some output returned below the grey cell.  If not, please consult the [Self-paced Lab Troubleshooting FAQ](https://developer.nvidia.com/self-paced-labs-faq#Troubleshooting) to debug the issue."
    },
    {
     "cell_type": "code",
     "collapsed": false,
     "input": "print \"The answer should be three: \" + str(1+2)",
     "language": "python",
     "metadata": {},
     "outputs": []
    },
    {
     "cell_type": "markdown",
     "metadata": {},
     "source": "Let's execute the cell below to display information about the GPUs running on the server."
    },
    {
     "cell_type": "code",
     "collapsed": false,
     "input": "!nvidia-smi",
     "language": "python",
     "metadata": {},
     "outputs": []
    },
    {
     "cell_type": "markdown",
     "metadata": {},
     "source": "---\n<p class=\"hint_trigger\">If you have never before taken an IPython Notebook based self-paced lab from NVIDIA, click this green box.\n      <div class=\"toggle_container\"><div class=\"input_area box-flex1\"><div class=\\\"highlight\\\">The following video will explain the infrastructure we are using for this self-paced lab, as well as give some tips on it's usage.  If you've never taken a lab on this system before, it's highly encourage you watch this short video first.\n<div align=\"center\"><iframe width=\"640\" height=\"390\" src=\"http://www.youtube.com/embed/ZMrDaLSFqpY\" frameborder=\"0\" allowfullscreen></iframe></div>\n</div></div></div></p>"
    },
    {
     "cell_type": "markdown",
     "metadata": {},
     "source": "## Introduction to CUDA Python\n\nIn this lab, we will learn how to write GPU code using Python, one of the fastest growing CUDA enabled languages.  By learning just a few new API calls, we'll be able to unlock the massively parallel capability of an NVIDIA GPU.\n\nWatch the following short video introduction to Grids, Blocks, and Threads:<br><br>\n\n<div align=\"center\"><iframe width=\"640\" height=\"390\" src=\"http://www.youtube.com/embed/KM-zbhyz9f4\" frameborder=\"0\" allowfullscreen></iframe></div>\n\nThis lab consists of three tasks that will require you to modify some code and execute it.  For each task, a solution is provided so you can check your work or take a peek if you get lost.\n\nIf you are still confused now, or at any point in this lab, you can consult the <a href=\"#FAQ\">FAQ</a> located at the bottom of this page."
    },
    {
     "cell_type": "markdown",
     "metadata": {},
     "source": "## Hello Parallelism\n\nFor the first task, we are going to be using the following concepts:\n\n* <code style=\"color:green\">@cuda.autojit</code> - this Python function decorator (goes on the line above a function definition) is used to tell the NumbaPro Python compiler that the function is to be compiled for the GPU, and is callable from both the host or the GPU itself.\n* <code style=\"color:green\">cuda.blockIdx.x</code> - this is a read-only variable that is defined for you.  It is used within a GPU kernel to determine the ID of the block which is currently executing code.  Since there will be many blocks running in parallel, we need this ID to help determine which chunk of data that particular block will work on.\n* <code style=\"color:green\">cuda.threadIdx.x</code> - this is a read-only variable that is defined for you.  It is used within a GPU kernel to determine the ID of the thread which is currently executing code in the active block.\n* <code style=\"color:green\">cuda.blockDim.x</code> - this is a read-only variable that is defined for you.  It simply returns a value indicating the number of threads there are per block.  Remember that all the blocks scheduled to execute on the GPU are identical, except for the <code style=\"color:green\">cuda.blockIdx.x</code> value.\n* <code style=\"color:green\">myKernel [ number_of_blocks, threads_per_block ] (...)</code> -  this is the syntax used to launch a kernel on the GPU.  Inside the square brackets we set two values.  The first is the total number of blocks we want to run on the GPU, and the second is the number of threads there are per block.  It's possible, and in fact recommended, for one to schedule more blocks than the GPU can actively run in parallel.  In this case, the system will just continue executing blocks until they have all run.\n\nLet's explore the above concepts by doing a simple example.\n\nThere is nothing you need to do to the code to get this example to work.  Before you do anything else, select the next cell down and hit Ctrl-Enter (or the play button in the toolbar) to run the code.  If everything is working, you should see the following: <code>[ 0.]</code>"
    },
    {
     "cell_type": "code",
     "collapsed": false,
     "input": "from numbapro import cuda # Import the CUDA Runtime API\nimport numpy as np # Import NumPy for creating data arrays\n\n@cuda.autojit\ndef hello(ary):\n    ary[cuda.threadIdx.x] = cuda.threadIdx.x + cuda.blockIdx.x\n    \ndef main():\n    threads_per_block = 1\n    number_of_blocks = 1\n    ary = np.empty(threads_per_block) # Create an array of threads_per_block elements\n    hello[number_of_blocks,threads_per_block] (ary)\n    \n    print ary # Print out the values filled in by the GPU\n    \nmain()",
     "language": "python",
     "metadata": {},
     "outputs": [],
     "prompt_number": 1
    },
    {
     "cell_type": "markdown",
     "metadata": {},
     "source": "### Task #1\n\nYour first task in this lab is to play around with the number of blocks, and threads per block by modifying the values `threads_per_block` and `number_of_blocks`. To make these changes, simply click on the cell below this one and edit the code.\n\n* What do you expect to see if you do `number_of_blocks = 2` and `threads_per_block = 1`?\n* What do you expect to see if you do `number_of_blocks = 100` and `threads_per_block = 5`?\n* Can you make the values arbitrarily large?\n\nAfter making a change, simply execute the cell with Ctrl-Enter and see the result."
    },
    {
     "cell_type": "code",
     "collapsed": false,
     "input": "from numbapro import cuda # Import the CUDA Runtime API\nimport numpy as np # Import NumPy for creating data arrays\n\n@cuda.autojit\ndef hello(ary):\n    ary[cuda.threadIdx.x] = cuda.threadIdx.x + cuda.blockIdx.x\n    \ndef main():\n    threads_per_block = 1\n    number_of_blocks = 1\n    ary = np.empty(threads_per_block)\n    hello[number_of_blocks,threads_per_block] (ary)\n    \n    print ary # Print out the values filled in by the GPU\n    \nmain()",
     "language": "python",
     "metadata": {},
     "outputs": []
    },
    {
     "cell_type": "markdown",
     "metadata": {},
     "source": "Congrats!  You have successfully modified and executed your first program on the GPU!\n\nBesides just getting our hands dirty compiling and executing code on the GPU, task1 was meant to enforce a fundamental principle.  If you set the number of threads per block to 5 and the number of blocks to 100, you should have noticed the values printed at the end were not from the last block - some randomness started to creep in.  The reason for this is we're executing these blocks & threads on a massively parallel GPU.  So there will be 100's if not 1000's of threads all executing simultaneously with respect to each other.  It's basically a race condition to see which block or threads got to write their values to our array first.\n\nIn a more realistic example, like we'll work on below, we need to ensure there is enough memory allocated to hold the results from all our threads."
    },
    {
     "cell_type": "markdown",
     "metadata": {},
     "source": "### Task #2\n\nFor our second task, we're going to be accelerating the ever popular SAXPY (**S**ingle-precision **A** times **X** **P**lus **Y**) function on the GPU using CUDA.\n\nUnlike Task #1, you are going to have to do some of work yourself!  In this example, the `saxpy` function has already been moved to the GPU, but it expects three arrays, `a`, `b`, and, `c`, to be passed to it.  So we need to handle getting the three arrays to the GPU version of `saxpy`.\n\nIt is important to realize here that the GPU has it's own physical memory, just like the CPU uses system RAM for it's memory.  When executing code on the GPU, we have to ensure any data it needs is first copied across the PCI-Express bus to the GPU's memory before we launch the `saxpy` kernel.  For this task, we will manage the GPU memory with the following API calls (detailed documentation [here](http://docs.continuum.io/numbapro/CUDAJit.html#memory-transfer)).  It should also be noted that CUDA Python makes heavy use of NumPy's N-dimensional array objects.  You do not need an understanding of NumPy to work on this lab, but if you're interested in reading more, you can start [here](http://www.numpy.org/).\n\n* `d_ary = cuda.to_device(ary)` - this API call is used to allocate and copy memory to the GPU.  After it completes successfully, d_ary will point to a copy of the NumPy array data on the GPU.\n* `d_ary = cuda.device_array(number_of_elements)` - this API call creates an empty NumPy array on the GPU of size number_of_elements\n* `d_ary.copy_to_host(ary)` - this API call will copy the data in d_ary which is on the GPU, to the NumPy array on the host\n\nYou may have noticed in Task #1, the NumbaPro compiler was smart enough to handle transferring the `ary` data itself.  For this task, we'll be doing it manually so you are aware of how it's done.\n\nIn the cell below, your objective is to replace the `## FIXME: ... ##` sections of code. Using the above calls, move the data to the GPU before the `saxpy` function is called, as well as copy the resulting `c` array back.  \n\nTo make sure you are getting the correct answer, the program prints out the first 5 and last 5 elements of `c`.  If everything was done correctly, the values should all be **5**.  The cells to compile and execute the program are located below the editor.  If you get stuck, there are a number of hints provided - just click on the green box to see what they are.\n\nFinally, you can click the green solution box below the code to check your work."
    },
    {
     "cell_type": "markdown",
     "metadata": {},
     "source": "<p class=\"hint_trigger\">Hint #1\n      <div class=\"toggle_container\"><div class=\"input_area box-flex1\"><div class=\\\"highlight\\\">To figure out the number_of_blocks, we want to divide the number of elements we're processing, by the number of threads_per_block.</div></div></div></p>"
    },
    {
     "cell_type": "markdown",
     "metadata": {},
     "source": "<p class=\"hint_trigger\">Hint #2\n      <div class=\"toggle_container\"><div class=\"input_area box-flex1\"><div class=\\\"highlight\\\">A kernel running on the GPU (indicated with <code>@cuda.autojit</code>) decorator cannot use host arrays, so make sure you are passing the device arrays into the <code>saxpy</code> function.</div></div></div></p>"
    },
    {
     "cell_type": "code",
     "collapsed": false,
     "input": "from numbapro import cuda\nimport numpy as np\n\n@cuda.autojit\ndef saxpy(a, b, c):\n    # Determine our unique global thread ID, so we know which element to process\n    tid = cuda.blockIdx.x * cuda.blockDim.x + cuda.threadIdx.x;\n    \n    if ( tid < c.size ): # Make sure we don't do more work than we have data!\n        c[tid] = 2 * a[tid] + b[tid];\n\ndef main():\n    N = 2048 * 2048\n\n    # Allocate host memory arrays\n    a = np.empty(N)\n    b = np.empty(N)\n    c = np.empty(N)\n\n    # Initialize host memory\n    a.fill(2)\n    b.fill(1)\n    c.fill(0)\n\n    # Allocate and copy GPU/device memory\n    d_a = cuda.to_device(a)\n    ## FIXME: allocate space for the other vectors ##\n\n    threads_per_block = 128\n    number_of_blocks = ## FIXME: given the threads_per_block is set, determine how many blocks we need ##\n\n    saxpy [ number_of_blocks, threads_per_block ] ( ## FIXME: what variables do we pass? ##, N )\n\n    ## FIXME: copy the vector c from the GPU back to the host ##\n\n    # Print out the first and last 5 values of c for a quality check\n    print str(c[0:5])\n    print str(c[-5:])\n    \nmain() # Execute the program",
     "language": "python",
     "metadata": {},
     "outputs": []
    },
    {
     "cell_type": "markdown",
     "metadata": {},
     "source": "<p class=\"hint_trigger\">Click to check your solution\n      <div class=\"toggle_container\"><div class=\"input_area box-flex1\"><div class=\\\"highlight\\\"><pre>from numbapro import cuda\nimport numpy as np\n\n@cuda.autojit\ndef saxpy(a, b, c):\n    # Determine our unique global thread ID, so we know which element to process\n    tid = cuda.blockIdx.x &#42; cuda.blockDim.x + cuda.threadIdx.x;\n    \n    if ( tid &lt; c.size ): # Make sure we don't do more work than we have data!\n        c[tid] = 2 &#42; a[tid] + b[tid];\n\ndef main():\n    N = 2048 * 2048\n\n    # Allocate host memory arrays\n    a = np.empty(N)\n    b = np.empty(N)\n    c = np.empty(N)\n\n    # Initialize host memory\n    a.fill(2)\n    b.fill(1)\n    c.fill(0)\n\n    # Allocate and copy GPU/device memory\n    d_a = cuda.to_device(a)\n    d_b = cuda.to_device(b)\n    d_c = cuda.to_device(c)\n\n    threads_per_block = 128\n    number_of_blocks = N / 128 + 1\n\n    saxpy [ number_of_blocks, threads_per_block ] ( d_a, d_b, d_c, N )\n\n    d_c.copy_to_host(c)\n\n    # Print out the first and last 5 values of c for a quality check\n    print c[:5]\n    print c[-5:]\n    \nmain() # Execute the program</pre></div></div></div></p>"
    },
    {
     "cell_type": "markdown",
     "metadata": {},
     "source": "The output of your program should be all 5's.  If you got this, you have successfully done the following:\n\n1. Allocated space in GPU memory\n2. Copied data from the CPU to the GPU\n3. Launched the `saxpy` function on the GPU\n4. Copied the resulting data back to the CPU\n\nIf you are still not able to get the correct output, please have a look at the solution hidden in the green box above and see if you can figure out what you were missing!"
    },
    {
     "cell_type": "markdown",
     "metadata": {},
     "source": "### Task #3\n\nYour final task in this lab will be to accelerate a basic matrix multiplication function on the GPU.  In this simplified example, we'll assume our matrices are all square - they have the same number of rows and columns.\n\nIn this task, all the data movement has already been completed for you.  Your goal is to modify the `matrixMulGPU` function with CUDA so it will run on the GPU.  However, there is a new twist!  Instead of just using one-dimensional blocks of threads and blocks, we'll be using two dimensions; x and y.  In the `main` function of Task #3, these are set with the following:\n\n    threads_per_block = (16, 16) # A 16 x 16 block threads\n    number_of_blocks = ((N / threads_per_block[0]) + 1, (N / threads_per_block[1]) + 1)\n    \nSo, in addition to using `cuda.blockIdx.x`, `cuda.blockDim.x`, and `cuda.threadIdx.x`, you'll also need to use <code>cuda.blockIdx.<span style=\"color:orange\">**y**</span></code>, <code>cuda.blockDim.<span style=\"color:orange\">**y**</span></code>, and <code>cuda.threadIdx.<span style=\"color:orange\">**y**</span></code>. As usual, please make use of the hints provided if you get stuck, and you can always check the green box below the code to see the answer.\n\n**Note**: do not modify the CPU version `matrixMulCPU`.  This is used to verify the results of the GPU version."
    },
    {
     "cell_type": "markdown",
     "metadata": {},
     "source": "<p class=\"hint_trigger\">Hint #1\n      <div class=\"toggle_container\"><div class=\"input_area box-flex1\"><div class=\\\"highlight\\\">You only need to modify the `matrixMulGPU` function.  No other code needs to be modified for this task.</div></div></div></p>"
    },
    {
     "cell_type": "markdown",
     "metadata": {},
     "source": "<p class=\"hint_trigger\">Hint #2\n      <div class=\"toggle_container\"><div class=\"input_area box-flex1\"><div class=\\\"highlight\\\">You'll be using a single thread to calculate one element of the output matrix `c`.  Each thread will execute the inner-most loop of the matrix multiplication formula.</div></div></div></p>"
    },
    {
     "cell_type": "markdown",
     "metadata": {},
     "source": "<p class=\"hint_trigger\">Hint #3\n      <div class=\"toggle_container\"><div class=\"input_area box-flex1\"><div class=\\\"highlight\\\">The `row` value should be set to `cuda.blockIdx.x * cuda.blockDim.x + cuda.threadIdx.x` to get the thread which is calculating the row part of the `c` matrix.  Can you figure out what the `col` value should be set to?</div></div></div></p>"
    },
    {
     "cell_type": "markdown",
     "metadata": {},
     "source": "<p class=\"hint_trigger\">Hint #4\n      <div class=\"toggle_container\"><div class=\"input_area box-flex1\"><div class=\\\"highlight\\\">Don't forget the `@cuda.autojit` function decorator to tell the compiler that `matrixMulGPU` is now a GPU function!</div></div></div></p>"
    },
    {
     "cell_type": "markdown",
     "metadata": {},
     "source": "<p class=\"hint_trigger\">Hint #5\n      <div class=\"toggle_container\"><div class=\"input_area box-flex1\"><div class=\\\"highlight\\\">Just like the CPU version, we need to make sure we do not do more work than we have data.  In this example, the `main` function is actually launching `matrixMulGPU` with more blocks of threads than we have data.  Make sure you're doing a check in your modified code so that `row` **and** `col` are less than N.</div></div></div></p>"
    },
    {
     "cell_type": "code",
     "collapsed": false,
     "input": "from numbapro import cuda\nimport numpy as np\n\nN = 64\n\n## FIXME: what goes here? ##\ndef matrixMulGPU( a, b, c ):\n    val = 0\n\n    row = ## FIXME: what should row be? ##\n    col = ## FIXME: what should row be? ##\n\n    if ## FIXME: What do we need to check for here? ##:\n        for k in range(N):\n            val += a[row,k] * b[k,col]\n        c[row,col] = val\n\n# Don't modify this function\ndef matrixMulCPU( a, b, c ):\n    for row in range(N):\n        for col in range(N):\n            val = 0\n            for k in range(N):\n                val += a[row,k] * b[k,col]\n            c[row,col] = val\n\ndef main():\n    # Allocate host memory\n    a = np.empty([N,N], dtype=np.float32)\n    b = np.empty_like(a)\n    c_cpu = np.empty_like(a)\n    c_gpu = np.empty_like(a)\n\n    # Initialize host memory\n    for row in range(N):\n        for col in range(N):\n            a[row,col] = row\n            b[row,col] = col+2\n            c_cpu[row,col] = 0\n            c_gpu[row,col] = 0\n\n    # Allocate and initialize GPU/device memory\n    d_a = cuda.to_device(a)\n    d_b = cuda.to_device(b)\n    d_c = cuda.to_device(c_gpu) # since we're overwriting c on the GPU in \n                                # the matrixMul kernel, no need to copy data over  \n\n    threads_per_block = (16, 16) # A 16 x 16 block threads\n    number_of_blocks = ((N / threads_per_block[0]) + 1, (N / threads_per_block[1]) + 1)\n\n    matrixMulGPU [ number_of_blocks, threads_per_block ] ( d_a, d_b, d_c )\n\n    d_c.copy_to_host(c_gpu)\n\n    # Call the CPU version to check our work\n    matrixMulCPU( a, b, c_cpu )\n\n    # Compare the two answers to make sure they are equal\n    error = False\n    for row in range(N):\n        if error:\n            break\n        for col in range(N):\n            if error:\n                break\n            if c_cpu[row,col] != c_gpu[row,col]:\n                print \"FOUND ERROR at c[\" + str(row) + \",\" + str(col) + \"]\"\n                error = True\n\n    if not error:\n        print \"Success!\"\n        \nmain() # Run the program",
     "language": "python",
     "metadata": {},
     "outputs": []
    },
    {
     "cell_type": "markdown",
     "metadata": {},
     "source": "<p class=\"hint_trigger\">Click to check your solution\n      <div class=\"toggle_container\"><div class=\"input_area box-flex1\"><div class=\\\"highlight\\\"><pre>from numbapro import cuda\nimport numpy as np\n\nN = 64\n\n@cuda.autojit\ndef matrixMulGPU( a, b, c ):\n    val = 0\n\n    row = cuda.blockIdx.x &#42; cuda.blockDim.x + cuda.threadIdx.x\n    col = cuda.blockIdx.y &#42; cuda.blockDim.y + cuda.threadIdx.y\n\n    if (row &lt; N and col &lt; N):\n        for k in range(N):\n            val += a[row,k] &#42; b[k,col]\n        c[row,col] = val\n\ndef matrixMulCPU( a, b, c ):\n    for row in range(N):\n        for col in range(N):\n            val = 0\n            for k in range(N):\n                val += a[row,k] &#42; b[k,col]\n            c[row,col] = val\n\ndef main():\n    # Allocate host memory\n    a = np.empty([N,N], dtype=np.float32)\n    b = np.empty_like(a)\n    c_cpu = np.empty_like(a)\n    c_gpu = np.empty_like(a)\n\n    # Initialize host memory\n    for row in range(N):\n        for col in range(N):\n            a[row,col] = row\n            b[row,col] = col+2\n            c_cpu[row,col] = 0\n            c_gpu[row,col] = 0\n\n    # Allocate and initialize GPU/device memory\n    d_a = cuda.to_device(a)\n    d_b = cuda.to_device(b)\n    d_c = cuda.to_device(c_gpu) # since we're overwriting c on the GPU in \n                                # the matrixMul kernel, no need to copy data over  \n\n    threads_per_block = (16, 16) # A 16 x 16 block threads\n    number_of_blocks = ((N / threads_per_block[0]) + 1, (N / threads_per_block[1]) + 1)\n\n    matrixMulGPU [ number_of_blocks, threads_per_block ] ( d_a, d_b, d_c )\n\n    d_c.copy_to_host(c_gpu)\n\n    # Call the CPU version to check our work\n    matrixMulCPU( a, b, c_cpu )\n\n    # Compare the two answers to make sure they are equal\n    error = False\n    for row in range(N):\n        if error:\n            break\n        for col in range(N):\n            if error:\n                break\n            if c_cpu[row,col] != c_gpu[row,col]:\n                print \"FOUND ERROR at c[\" + str(row) + \",\" + str(col) + \"]\"\n                error = True\n\n    if not error:\n        print \"Success!\"\n        \nmain() # Run the program</pre></div></div></div></p>"
    },
    {
     "cell_type": "markdown",
     "metadata": {},
     "source": "If you get Task #3 to run without any errors, you have successfully taken a serial function and moved it to a massively parallel version on the GPU!"
    },
    {
     "cell_type": "markdown",
     "metadata": {},
     "source": "## Learn More\n\nIf you are interested in learning more, you can use the following resources:\n\n* Learn more at the [CUDA Developer Zone](https://developer.nvidia.com/category/zone/cuda-zone).\n* Install [Anaconda Accelerate](https://store.continuum.io/cshop/accelerate/) from Continuum Analytics.  You can also watch the [CUDACast](http://www.youtube.com/watch?v=jKV1m8APttU) on this process.\n* Take the fantastic online and **free** Udacity [Intro to Parallel Programming](https://www.udacity.com/course/cs344) course which uses CUDA C.\n* Search or ask questions on [Stackoverflow](http://stackoverflow.com/questions/tagged/cuda) using the cuda tag"
    },
    {
     "cell_type": "markdown",
     "metadata": {},
     "source": "<a id=\"post-lab\"></a>\n## Post-Lab\n\nFinally, don't forget to save your work from this lab before time runs out and the instance shuts down!!\n\n1. Save this IPython Notebook by going to `File -> Download as -> IPython (.ipynb)` at the top of this window"
    },
    {
     "cell_type": "markdown",
     "metadata": {},
     "source": "<a id=\"FAQ\"></a>\n---\n# Lab FAQ\n\nQ: I'm encountering issues executing the cells, or other technical problems?<br>\nA: Please see [this](https://developer.nvidia.com/self-paced-labs-faq#Troubleshooting) infrastructure FAQ."
    },
    {
     "cell_type": "markdown",
     "metadata": {},
     "source": "<style>\np.hint_trigger{\n  margin-bottom:7px;\n  margin-top:-5px;\n  background:#64E84D;\n}\n.toggle_container{\n  margin-bottom:0px;\n}\n.toggle_container p{\n  margin:2px;\n}\n.toggle_container{\n  background:#f0f0f0;\n  clear: both;\n  font-size:100%;\n}\n</style>\n<script>\n$(\"p.hint_trigger\").click(function(){\n   $(this).toggleClass(\"active\").next().slideToggle(\"normal\");\n});\n   \n$(\".toggle_container\").hide();\n</script>"
    }
   ],
   "metadata": {}
  }
 ]
}