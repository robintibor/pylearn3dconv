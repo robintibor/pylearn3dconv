{
 "cells": [
  {
   "cell_type": "markdown",
   "metadata": {},
   "source": [
    "# Optimize 3d conv"
   ]
  },
  {
   "cell_type": "markdown",
   "metadata": {},
   "source": [
    "First results:   \n",
    "<pre>\n",
    "python perf_convs.py --inputs 20 20 20 20 3 --filters 7 3 6 2 3      \n",
    "Input shape  [20, 20, 20, 20, 3]\n",
    "Filter shape [7, 3, 6, 2, 3]\n",
    "Output shape (20, 18, 15, 19, 7)\n",
    "#Inputs   480000\n",
    "#Weights     756\n",
    "#Outputs  718200\n",
    "#Multiplications 542959200\n",
    "Theano 3d                 runtime per iteration (  14 iterations): 143.8815ms\n",
    "Theano 3d2d               runtime per iteration (  78 iterations):  12.9532ms\n",
    "Python Vectorized         runtime per iteration (  25 iterations):  82.0083ms\n",
    "Cudamat Vectorized        runtime per iteration (  23 iterations):  87.3997ms\n",
    "Theano Mul Vectorized     runtime per iteration (  28 iterations):  72.9542ms\n",
    "GPU Loop                  runtime per iteration (   1 iterations): 20829.8290ms\n",
    "\n",
    "\n",
    "</pre>"
   ]
  },
  {
   "cell_type": "markdown",
   "metadata": {},
   "source": [
    "After Cudnn theano 3d2d faster:\n",
    "\n",
    "<pre>\n",
    "python perf_convs.py --inputs 20 20 20 20 3 --filters 7 3 6 2 3\n",
    "Using gpu device 0: GeForce GTX 780\n",
    "Batches/Filters, rows, columns, times, channels\n",
    "Input shape  [20, 20, 20, 20, 3]\n",
    "Filter shape [7, 3, 6, 2, 3]\n",
    "Output shape (20, 18, 15, 19, 7)\n",
    "#Inputs   480000\n",
    "#Weights     756\n",
    "#Outputs  718200\n",
    "#Multiplications 542959200\n",
    "\n",
    "Theano 3d                 runtime per iteration (  14 iterations): 143.8013ms\n",
    "Theano 3d2d               runtime per iteration ( 286 iterations):   3.5014ms\n",
    "Python Vectorized         runtime per iteration (  25 iterations):  80.9831ms\n",
    "Cudamat Vectorized        runtime per iteration (  24 iterations):  86.5586ms\n",
    "Theano Mul Vectorized     runtime per iteration (  28 iterations):  71.6942ms\n",
    "GPU Loop                  runtime per iteration (   1 iterations): 20715.0171ms\n",
    "\n",
    "</pre>"
   ]
  },
  {
   "cell_type": "code",
   "execution_count": 1,
   "metadata": {
    "collapsed": false
   },
   "outputs": [],
   "source": [
    "# 80 x 80 x 3 image input with 5 - 40 frames batch size 64, 256\n",
    "# 5 x  5 x 3 x 5(zeit) filter, 128 davon\n",
    "# wenn im vergleich yuzu 2d nur um faktor zeit oder ein bisschen mehr groesser dann ok"
   ]
  },
  {
   "cell_type": "code",
   "execution_count": 2,
   "metadata": {
    "collapsed": false
   },
   "outputs": [],
   "source": [
    "# wrap as a layer usable in theano:  https://github.com/benanne/Lasagne/blob/master/lasagne/layers/corrmm.py"
   ]
  },
  {
   "cell_type": "code",
   "execution_count": null,
   "metadata": {
    "collapsed": false
   },
   "outputs": [],
   "source": [
    "# or pylearn2"
   ]
  },
  {
   "cell_type": "markdown",
   "metadata": {},
   "source": [
    "## Debug"
   ]
  },
  {
   "cell_type": "code",
   "execution_count": 2,
   "metadata": {
    "collapsed": false
   },
   "outputs": [
    {
     "name": "stdout",
     "output_type": "stream",
     "text": [
      "/home/schirrmr/3dconv/vol_conv\n"
     ]
    }
   ],
   "source": [
    "import os\n",
    "os.sys.path.insert(0,'/home/schirrmr/3dconv/') \n",
    "%cd /home/schirrmr/3dconv/vol_conv/\n",
    "%load_ext autoreload\n",
    "%autoreload 2"
   ]
  },
  {
   "cell_type": "code",
   "execution_count": 8,
   "metadata": {
    "collapsed": false
   },
   "outputs": [
    {
     "name": "stdout",
     "output_type": "stream",
     "text": [
      "Using gpu device 0: GeForce GTX 780\n",
      "/home/schirrmr/3dconv/pylearn2-master/pylearn2/utils/image.py:16: UserWarning: Unable to import matplotlib. Some features unavailable. Original exception: No module named matplotlib.pyplot\n",
      "  \"Original exception: \" + str(matplotlib_exception))\n",
      "Parameter and initial learning rate summary:\n",
      "\tconv3d_lin_W: 0.10000000149\n",
      "\tconv3d_lin_b: 0.10000000149\n",
      "\tsoftmax_b: 0.10000000149\n",
      "\tsoftmax_W: 0.10000000149\n",
      "Compiling sgd_update...\n",
      "Compiling sgd_update done. Time elapsed: 2.804602 seconds\n",
      "0.58\n",
      "0.92\n",
      "0.84\n",
      "1.0\n"
     ]
    }
   ],
   "source": [
    "!python tests/test_training.py"
   ]
  },
  {
   "cell_type": "code",
   "execution_count": 3,
   "metadata": {
    "collapsed": false
   },
   "outputs": [
    {
     "name": "stderr",
     "output_type": "stream",
     "text": [
      "Using gpu device 0: GeForce GTX 780\n",
      "/home/schirrmr/3dconv/pylearn2-master/pylearn2/utils/image.py:16: UserWarning: Unable to import matplotlib. Some features unavailable. Original exception: No module named matplotlib.pyplot\n",
      "  \"Original exception: \" + str(matplotlib_exception))\n"
     ]
    }
   ],
   "source": [
    "from vol_conv.volumetric_space import Conv3DSpace\n",
    "from vol_conv.layers.theano_3d_conv import Theano3dConv3dElemwise\n",
    "import numpy as np\n",
    "from pylearn2.models.mlp import IdentityConvNonlinearity\n",
    "import theano\n",
    "import theano.tensor as T\n",
    "from vol_conv.volumetric_dense_design_matrix import VolumetricDenseDesignMatrix\n",
    "from pylearn2.training_algorithms.sgd import SGD\n",
    "from pylearn2.models.mlp import MLP, Softmax\n",
    "from pylearn2.format.target_format import OneHotFormatter\n",
    "from numpy.random import RandomState\n",
    "class FakeMLP():\n",
    "    def __init__(self,rng,batch_size):\n",
    "        self.rng = rng\n",
    "        self.batch_size = batch_size"
   ]
  },
  {
   "cell_type": "code",
   "execution_count": 4,
   "metadata": {
    "collapsed": false
   },
   "outputs": [
    {
     "name": "stdout",
     "output_type": "stream",
     "text": [
      "Parameter and initial learning rate summary:\n",
      "\tconv3d_lin_W: 0.10000000149\n",
      "\tconv3d_lin_b: 0.10000000149\n",
      "\tsoftmax_b: 0.10000000149\n",
      "\tsoftmax_W: 0.10000000149\n",
      "Compiling sgd_update...\n",
      "Compiling sgd_update done. Time elapsed: 2.951343 seconds\n"
     ]
    }
   ],
   "source": [
    "\n",
    "fake_mlp = FakeMLP(rng=rng,batch_size=inputs_shape[0])\n",
    "conv_3d_layer = Theano3dConv3dElemwise(output_channels=filters_shape[0], \n",
    "        kernel_shape=filters_shape[1:4],\n",
    "        layer_name='conv3d_lin', nonlinearity=IdentityConvNonlinearity(),\n",
    "        irange=0.001)\n",
    "conv_3d_layer.set_mlp(fake_mlp)\n",
    "conv_3d_input_space = Conv3DSpace(inputs_shape[1:4], num_channels=inputs_shape[4], axes=('b',0,1,2,'c'))\n",
    "conv_3d_layer.set_input_space(conv_3d_input_space)\n",
    "\n",
    "\n",
    "inputs_3d_layer_theano = ftensor5()\n",
    "conv3d__layer_result = conv_3d_layer.fprop(inputs_3d_layer_theano)\n",
    "conv3d_fprop = theano.function([inputs_3d_layer_theano], conv3d__layer_result)\n",
    "\n",
    "inputs_3d_nnet_theano = ftensor5()\n",
    "filters_3d_nnet_theano = ftensor5()\n",
    "bias_3d_nnet_theano = T.fvector()\n",
    "conv3d_nnet_result = theano.tensor.nnet.conv3D(inputs_3d_nnet_theano, filters_3d_nnet_theano, bias_3d_nnet_theano, d=(1,1,1))\n",
    "conv3d_nnet = theano.function([inputs_3d_nnet_theano, filters_3d_nnet_theano, bias_3d_nnet_theano], conv3d_nnet_result)\n",
    "\n",
    "inputs = (rng.rand(*inputs_shape).astype('float32') -1) * 2 # [-1,1)\n",
    "filters = (rng.rand(*filters_shape).astype('float32') - 1) *2 # [-1,1)\n",
    "bias = rng.rand(filters.shape[0]).astype('float32')\n",
    "targets = np.zeros(inputs.shape[0]).astype('int')\n",
    "targets[::2] = 1 # every second target is 1 or 0\n",
    "inputs[targets == 1] = inputs[targets == 1] + 1\n",
    "\n",
    "\n",
    "correct_result = conv3d_nnet(inputs, filters, bias)\n",
    "conv_3d_layer.set_weights(filters)\n",
    "conv_3d_layer.set_biases(bias)\n",
    "layer_result = conv3d_fprop(inputs)\n",
    "\n",
    "assert np.sum(np.square(correct_result - layer_result)) < 1e-4\n",
    "\n",
    "target_formatter = OneHotFormatter(2)\n",
    "targets_one_hot = target_formatter.format(targets)\n",
    "\n",
    "conv_3d_layer.mlp = None\n",
    "softmax_layer = Softmax(max_col_norm=2, layer_name='y', n_classes=2, istdev=.05)\n",
    "mlp = MLP(input_space=conv_3d_input_space, layers=[conv_3d_layer, softmax_layer])\n",
    "train_set = VolumetricDenseDesignMatrix(topo_view=inputs[0:50], y=targets_one_hot[0:50], axes=('b', 0, 1, 2, 'c'))\n",
    "valid_set = VolumetricDenseDesignMatrix(topo_view=inputs[50:75], y=targets_one_hot[50:75], axes=('b', 0, 1, 2, 'c'))\n",
    "test_set = VolumetricDenseDesignMatrix(topo_view=inputs[75:100], y=targets_one_hot[75:100], axes=('b', 0, 1, 2, 'c'))\n",
    "algorithm = SGD(batch_size=20, learning_rate=0.1)\n",
    "algorithm.setup(mlp, train_set)"
   ]
  },
  {
   "cell_type": "code",
   "execution_count": 5,
   "metadata": {
    "collapsed": false
   },
   "outputs": [
    {
     "data": {
      "text/plain": [
       "0.29999999999999999"
      ]
     },
     "execution_count": 5,
     "metadata": {},
     "output_type": "execute_result"
    }
   ],
   "source": [
    "inputs_mlp_theano = ftensor5()\n",
    "mlp_fprop_result = mlp.fprop(inputs_mlp_theano)\n",
    "\n",
    "mlp_fprop = theano.function([inputs_mlp_theano], mlp_fprop_result)\n",
    "mlp_result = mlp_fprop(train_set.get_topological_view())\n",
    "mlp_result_labels = np.argmax(mlp_result, axis=1)\n",
    "y_labels = np.argmax(train_set.y, axis=1)\n",
    "np.sum(np.equal(y_labels, mlp_result_labels)) / float(len(train_set.y))"
   ]
  },
  {
   "cell_type": "code",
   "execution_count": 6,
   "metadata": {
    "collapsed": false
   },
   "outputs": [],
   "source": [
    "algorithm.train(train_set)"
   ]
  },
  {
   "cell_type": "code",
   "execution_count": 7,
   "metadata": {
    "collapsed": false
   },
   "outputs": [
    {
     "name": "stdout",
     "output_type": "stream",
     "text": [
      "('valid', 0.88)\n",
      "('test', 0.95999999999999996)\n"
     ]
    }
   ],
   "source": [
    "mlp_valid_result = mlp_fprop(valid_set.get_topological_view())\n",
    "mlp_valid_result_labels = np.argmax(mlp_valid_result, axis=1)\n",
    "mlp_test_result = mlp_fprop(test_set.get_topological_view())\n",
    "mlp_test_result_labels = np.argmax(mlp_test_result, axis=1)\n",
    "print(\"valid\", np.sum(np.equal(np.argmax(valid_set.y, axis=1), mlp_valid_result_labels)) / float(len(valid_set.y)))\n",
    "print(\"test\", np.sum(np.equal(np.argmax(test_set.y, axis=1), mlp_test_result_labels)) / float(len(test_set.y)))"
   ]
  },
  {
   "cell_type": "code",
   "execution_count": null,
   "metadata": {
    "collapsed": true
   },
   "outputs": [],
   "source": [
    "# make test case with this data, check that you always get same results\n",
    "#\n",
    "\n",
    "# for pyyaml later:\n",
    "# create h5 files with data, create \"h5volumetricdataset\" class which reads out adata and calls superconstructor\n"
   ]
  }
 ],
 "metadata": {
  "kernelspec": {
   "display_name": "Python 2",
   "language": "python",
   "name": "python2"
  },
  "language_info": {
   "codemirror_mode": {
    "name": "ipython",
    "version": 2
   },
   "file_extension": ".py",
   "mimetype": "text/x-python",
   "name": "python",
   "nbconvert_exporter": "python",
   "pygments_lexer": "ipython2",
   "version": "2.7.6"
  }
 },
 "nbformat": 4,
 "nbformat_minor": 0
}
